{
 "metadata": {
  "language_info": {
   "codemirror_mode": {
    "name": "ipython",
    "version": 3
   },
   "file_extension": ".py",
   "mimetype": "text/x-python",
   "name": "python",
   "nbconvert_exporter": "python",
   "pygments_lexer": "ipython3",
   "version": "3.9.1-final"
  },
  "orig_nbformat": 2,
  "kernelspec": {
   "name": "python3",
   "display_name": "Python 3.9.1 64-bit",
   "metadata": {
    "interpreter": {
     "hash": "feb7d9a3cd72ba344e2f7097444224faf08233d54429550d56b57278c146a7ad"
    }
   }
  }
 },
 "nbformat": 4,
 "nbformat_minor": 2,
 "cells": [
  {
   "source": [
    "# Importo las librerias"
   ],
   "cell_type": "markdown",
   "metadata": {}
  },
  {
   "cell_type": "code",
   "execution_count": 3,
   "metadata": {},
   "outputs": [],
   "source": [
    "import pandas as pd\n",
    "#from pandas import DataFrame\n",
    "import os\n",
    "import time\n",
    "#import sweetviz as sv\n",
    "#import csv\n",
    "import requests\n",
    "import json\n",
    "import datetime\n",
    "import time #for Throttle a function time.sleep(3)\n",
    "#import plotly.graph_objects as go\n",
    "import pickle\n"
   ]
  },
  {
   "source": [
    "## Cargo el DataFrame"
   ],
   "cell_type": "markdown",
   "metadata": {}
  },
  {
   "cell_type": "code",
   "execution_count": 204,
   "metadata": {},
   "outputs": [],
   "source": [
    "#Datos de Transacciones y Tags\n",
    "subdir = 'E:/Vtex_Projects/Monitoreo_Gateways/VTEX_Splunk_2_Datastudio - Data/0_base/'\n",
    "name = 'Payments_ByCurrency_Connector_2020.csv'\n",
    "name_country = '0_Tags_Country.csv'\n",
    "name_connector = '0_Tags_Connector.csv'\n",
    "\n",
    "df = pd.read_csv(os.path.join(subdir, name), sep = \",\", encoding='cp1252')\n",
    "df_country = pd.read_csv(os.path.join(subdir, name_country), sep = \",\", encoding='cp1252')\n",
    "df_connector = pd.read_csv(os.path.join(subdir, name_connector), sep = \",\", encoding='cp1252')"
   ]
  },
  {
   "cell_type": "code",
   "execution_count": 205,
   "metadata": {},
   "outputs": [
    {
     "output_type": "execute_result",
     "data": {
      "text/plain": [
       "      currency     connector          accountname              account  \\\n",
       "0          AED      CCAvenue  motoroladevelopment  motoroladevelopment   \n",
       "1          AED      CCAvenue          motorolamea          motorolamea   \n",
       "2          AED      CCAvenue         shoptheworld         shoptheworld   \n",
       "3          AED  DigitalRiver  motoroladevelopment  motoroladevelopment   \n",
       "4          AED        PayPal         shoptheworld         shoptheworld   \n",
       "...        ...           ...                  ...                  ...   \n",
       "84973      UYU    Promissory               moteuy               moteuy   \n",
       "84974      UYU    Promissory               tatauy               tatauy   \n",
       "84975      UYU    Promissory             tatauyqa             tatauyqa   \n",
       "84976      VES    Promissory            diageoven            diageoven   \n",
       "84977      VES    Promissory     locatelvenezuela     locatelvenezuela   \n",
       "\n",
       "       False:::Count of Transactions_PCI  False:::Sum of kpi_sum  \\\n",
       "0                                     12                   10.06   \n",
       "1                                     17                   17.00   \n",
       "2                                      6                   69.50   \n",
       "3                                     16                   14.07   \n",
       "4                                      0                     NaN   \n",
       "...                                  ...                     ...   \n",
       "84973                                  0                     NaN   \n",
       "84974                                  2                 6010.00   \n",
       "84975                                  0                     NaN   \n",
       "84976                                  0                     NaN   \n",
       "84977                                  0                     NaN   \n",
       "\n",
       "       True:::Count of Transactions_PCI  True:::Sum of kpi_sum  \n",
       "0                                     0                    NaN  \n",
       "1                                     2                   2.00  \n",
       "2                                     0                    NaN  \n",
       "3                                     0                    NaN  \n",
       "4                                     1                   2.00  \n",
       "...                                 ...                    ...  \n",
       "84973                                68               22879.85  \n",
       "84974                             33508            91930564.34  \n",
       "84975                               472              968772.84  \n",
       "84976                                 3               41050.00  \n",
       "84977                                 3             3605286.00  \n",
       "\n",
       "[84978 rows x 8 columns]"
      ],
      "text/html": "<div>\n<style scoped>\n    .dataframe tbody tr th:only-of-type {\n        vertical-align: middle;\n    }\n\n    .dataframe tbody tr th {\n        vertical-align: top;\n    }\n\n    .dataframe thead th {\n        text-align: right;\n    }\n</style>\n<table border=\"1\" class=\"dataframe\">\n  <thead>\n    <tr style=\"text-align: right;\">\n      <th></th>\n      <th>currency</th>\n      <th>connector</th>\n      <th>accountname</th>\n      <th>account</th>\n      <th>False:::Count of Transactions_PCI</th>\n      <th>False:::Sum of kpi_sum</th>\n      <th>True:::Count of Transactions_PCI</th>\n      <th>True:::Sum of kpi_sum</th>\n    </tr>\n  </thead>\n  <tbody>\n    <tr>\n      <th>0</th>\n      <td>AED</td>\n      <td>CCAvenue</td>\n      <td>motoroladevelopment</td>\n      <td>motoroladevelopment</td>\n      <td>12</td>\n      <td>10.06</td>\n      <td>0</td>\n      <td>NaN</td>\n    </tr>\n    <tr>\n      <th>1</th>\n      <td>AED</td>\n      <td>CCAvenue</td>\n      <td>motorolamea</td>\n      <td>motorolamea</td>\n      <td>17</td>\n      <td>17.00</td>\n      <td>2</td>\n      <td>2.00</td>\n    </tr>\n    <tr>\n      <th>2</th>\n      <td>AED</td>\n      <td>CCAvenue</td>\n      <td>shoptheworld</td>\n      <td>shoptheworld</td>\n      <td>6</td>\n      <td>69.50</td>\n      <td>0</td>\n      <td>NaN</td>\n    </tr>\n    <tr>\n      <th>3</th>\n      <td>AED</td>\n      <td>DigitalRiver</td>\n      <td>motoroladevelopment</td>\n      <td>motoroladevelopment</td>\n      <td>16</td>\n      <td>14.07</td>\n      <td>0</td>\n      <td>NaN</td>\n    </tr>\n    <tr>\n      <th>4</th>\n      <td>AED</td>\n      <td>PayPal</td>\n      <td>shoptheworld</td>\n      <td>shoptheworld</td>\n      <td>0</td>\n      <td>NaN</td>\n      <td>1</td>\n      <td>2.00</td>\n    </tr>\n    <tr>\n      <th>...</th>\n      <td>...</td>\n      <td>...</td>\n      <td>...</td>\n      <td>...</td>\n      <td>...</td>\n      <td>...</td>\n      <td>...</td>\n      <td>...</td>\n    </tr>\n    <tr>\n      <th>84973</th>\n      <td>UYU</td>\n      <td>Promissory</td>\n      <td>moteuy</td>\n      <td>moteuy</td>\n      <td>0</td>\n      <td>NaN</td>\n      <td>68</td>\n      <td>22879.85</td>\n    </tr>\n    <tr>\n      <th>84974</th>\n      <td>UYU</td>\n      <td>Promissory</td>\n      <td>tatauy</td>\n      <td>tatauy</td>\n      <td>2</td>\n      <td>6010.00</td>\n      <td>33508</td>\n      <td>91930564.34</td>\n    </tr>\n    <tr>\n      <th>84975</th>\n      <td>UYU</td>\n      <td>Promissory</td>\n      <td>tatauyqa</td>\n      <td>tatauyqa</td>\n      <td>0</td>\n      <td>NaN</td>\n      <td>472</td>\n      <td>968772.84</td>\n    </tr>\n    <tr>\n      <th>84976</th>\n      <td>VES</td>\n      <td>Promissory</td>\n      <td>diageoven</td>\n      <td>diageoven</td>\n      <td>0</td>\n      <td>NaN</td>\n      <td>3</td>\n      <td>41050.00</td>\n    </tr>\n    <tr>\n      <th>84977</th>\n      <td>VES</td>\n      <td>Promissory</td>\n      <td>locatelvenezuela</td>\n      <td>locatelvenezuela</td>\n      <td>0</td>\n      <td>NaN</td>\n      <td>3</td>\n      <td>3605286.00</td>\n    </tr>\n  </tbody>\n</table>\n<p>84978 rows × 8 columns</p>\n</div>"
     },
     "metadata": {},
     "execution_count": 205
    }
   ],
   "source": [
    "df"
   ]
  },
  {
   "cell_type": "code",
   "execution_count": 206,
   "metadata": {},
   "outputs": [
    {
     "output_type": "execute_result",
     "data": {
      "text/plain": [
       "Series([], Name: currency, dtype: int64)"
      ]
     },
     "metadata": {},
     "execution_count": 206
    }
   ],
   "source": [
    "df_2 = pd.merge(df, df_country, how = \"left\", left_on='currency', right_on='Moneda', indicator=True)\n",
    "df_2[df_2._merge == 'left_only'].currency.value_counts()"
   ]
  },
  {
   "cell_type": "code",
   "execution_count": 207,
   "metadata": {},
   "outputs": [],
   "source": [
    "df_2['merge0'] = df_2['_merge']\n",
    "df_2.drop('_merge', axis = 1, inplace=True)\n",
    "df_3 = pd.merge(df_2, df_connector, how = \"left\", left_on='connector', right_on='Conector', indicator=True)"
   ]
  },
  {
   "cell_type": "code",
   "execution_count": 208,
   "metadata": {},
   "outputs": [
    {
     "output_type": "execute_result",
     "data": {
      "text/plain": [
       "      currency     connector          accountname              account  \\\n",
       "0          AED      CCAvenue  motoroladevelopment  motoroladevelopment   \n",
       "1          AED      CCAvenue          motorolamea          motorolamea   \n",
       "2          AED      CCAvenue         shoptheworld         shoptheworld   \n",
       "3          AED  DigitalRiver  motoroladevelopment  motoroladevelopment   \n",
       "4          AED        PayPal         shoptheworld         shoptheworld   \n",
       "...        ...           ...                  ...                  ...   \n",
       "84973      UYU    Promissory               moteuy               moteuy   \n",
       "84974      UYU    Promissory               tatauy               tatauy   \n",
       "84975      UYU    Promissory             tatauyqa             tatauyqa   \n",
       "84976      VES    Promissory            diageoven            diageoven   \n",
       "84977      VES    Promissory     locatelvenezuela     locatelvenezuela   \n",
       "\n",
       "       False:::Count of Transactions_PCI  False:::Sum of kpi_sum  \\\n",
       "0                                     12                   10.06   \n",
       "1                                     17                   17.00   \n",
       "2                                      6                   69.50   \n",
       "3                                     16                   14.07   \n",
       "4                                      0                     NaN   \n",
       "...                                  ...                     ...   \n",
       "84973                                  0                     NaN   \n",
       "84974                                  2                 6010.00   \n",
       "84975                                  0                     NaN   \n",
       "84976                                  0                     NaN   \n",
       "84977                                  0                     NaN   \n",
       "\n",
       "       True:::Count of Transactions_PCI  True:::Sum of kpi_sum Moneda  \\\n",
       "0                                     0                    NaN    AED   \n",
       "1                                     2                   2.00    AED   \n",
       "2                                     0                    NaN    AED   \n",
       "3                                     0                    NaN    AED   \n",
       "4                                     1                   2.00    AED   \n",
       "...                                 ...                    ...    ...   \n",
       "84973                                68               22879.85    UYU   \n",
       "84974                             33508            91930564.34    UYU   \n",
       "84975                               472              968772.84    UYU   \n",
       "84976                                 3               41050.00    VES   \n",
       "84977                                 3             3605286.00    VES   \n",
       "\n",
       "      Currency            TC             Pais  Region merge0 Conector  \\\n",
       "0      USD/AED  3.673200e+00  Emiratos Arabes  Europa   both      NaN   \n",
       "1      USD/AED  3.673200e+00  Emiratos Arabes  Europa   both      NaN   \n",
       "2      USD/AED  3.673200e+00  Emiratos Arabes  Europa   both      NaN   \n",
       "3      USD/AED  3.673200e+00  Emiratos Arabes  Europa   both      NaN   \n",
       "4      USD/AED  3.673200e+00  Emiratos Arabes  Europa   both      NaN   \n",
       "...        ...           ...              ...     ...    ...      ...   \n",
       "84973  USD/UYU  4.214000e+01          Uruguay   Latam   both      NaN   \n",
       "84974  USD/UYU  4.214000e+01          Uruguay   Latam   both      NaN   \n",
       "84975  USD/UYU  4.214000e+01          Uruguay   Latam   both      NaN   \n",
       "84976  USD/VES  1.803004e+07        Venezuela   Latam   both      NaN   \n",
       "84977  USD/VES  1.803004e+07        Venezuela   Latam   both      NaN   \n",
       "\n",
       "      Conector_Aj     _merge  \n",
       "0             NaN  left_only  \n",
       "1             NaN  left_only  \n",
       "2             NaN  left_only  \n",
       "3             NaN  left_only  \n",
       "4             NaN  left_only  \n",
       "...           ...        ...  \n",
       "84973         NaN  left_only  \n",
       "84974         NaN  left_only  \n",
       "84975         NaN  left_only  \n",
       "84976         NaN  left_only  \n",
       "84977         NaN  left_only  \n",
       "\n",
       "[84978 rows x 17 columns]"
      ],
      "text/html": "<div>\n<style scoped>\n    .dataframe tbody tr th:only-of-type {\n        vertical-align: middle;\n    }\n\n    .dataframe tbody tr th {\n        vertical-align: top;\n    }\n\n    .dataframe thead th {\n        text-align: right;\n    }\n</style>\n<table border=\"1\" class=\"dataframe\">\n  <thead>\n    <tr style=\"text-align: right;\">\n      <th></th>\n      <th>currency</th>\n      <th>connector</th>\n      <th>accountname</th>\n      <th>account</th>\n      <th>False:::Count of Transactions_PCI</th>\n      <th>False:::Sum of kpi_sum</th>\n      <th>True:::Count of Transactions_PCI</th>\n      <th>True:::Sum of kpi_sum</th>\n      <th>Moneda</th>\n      <th>Currency</th>\n      <th>TC</th>\n      <th>Pais</th>\n      <th>Region</th>\n      <th>merge0</th>\n      <th>Conector</th>\n      <th>Conector_Aj</th>\n      <th>_merge</th>\n    </tr>\n  </thead>\n  <tbody>\n    <tr>\n      <th>0</th>\n      <td>AED</td>\n      <td>CCAvenue</td>\n      <td>motoroladevelopment</td>\n      <td>motoroladevelopment</td>\n      <td>12</td>\n      <td>10.06</td>\n      <td>0</td>\n      <td>NaN</td>\n      <td>AED</td>\n      <td>USD/AED</td>\n      <td>3.673200e+00</td>\n      <td>Emiratos Arabes</td>\n      <td>Europa</td>\n      <td>both</td>\n      <td>NaN</td>\n      <td>NaN</td>\n      <td>left_only</td>\n    </tr>\n    <tr>\n      <th>1</th>\n      <td>AED</td>\n      <td>CCAvenue</td>\n      <td>motorolamea</td>\n      <td>motorolamea</td>\n      <td>17</td>\n      <td>17.00</td>\n      <td>2</td>\n      <td>2.00</td>\n      <td>AED</td>\n      <td>USD/AED</td>\n      <td>3.673200e+00</td>\n      <td>Emiratos Arabes</td>\n      <td>Europa</td>\n      <td>both</td>\n      <td>NaN</td>\n      <td>NaN</td>\n      <td>left_only</td>\n    </tr>\n    <tr>\n      <th>2</th>\n      <td>AED</td>\n      <td>CCAvenue</td>\n      <td>shoptheworld</td>\n      <td>shoptheworld</td>\n      <td>6</td>\n      <td>69.50</td>\n      <td>0</td>\n      <td>NaN</td>\n      <td>AED</td>\n      <td>USD/AED</td>\n      <td>3.673200e+00</td>\n      <td>Emiratos Arabes</td>\n      <td>Europa</td>\n      <td>both</td>\n      <td>NaN</td>\n      <td>NaN</td>\n      <td>left_only</td>\n    </tr>\n    <tr>\n      <th>3</th>\n      <td>AED</td>\n      <td>DigitalRiver</td>\n      <td>motoroladevelopment</td>\n      <td>motoroladevelopment</td>\n      <td>16</td>\n      <td>14.07</td>\n      <td>0</td>\n      <td>NaN</td>\n      <td>AED</td>\n      <td>USD/AED</td>\n      <td>3.673200e+00</td>\n      <td>Emiratos Arabes</td>\n      <td>Europa</td>\n      <td>both</td>\n      <td>NaN</td>\n      <td>NaN</td>\n      <td>left_only</td>\n    </tr>\n    <tr>\n      <th>4</th>\n      <td>AED</td>\n      <td>PayPal</td>\n      <td>shoptheworld</td>\n      <td>shoptheworld</td>\n      <td>0</td>\n      <td>NaN</td>\n      <td>1</td>\n      <td>2.00</td>\n      <td>AED</td>\n      <td>USD/AED</td>\n      <td>3.673200e+00</td>\n      <td>Emiratos Arabes</td>\n      <td>Europa</td>\n      <td>both</td>\n      <td>NaN</td>\n      <td>NaN</td>\n      <td>left_only</td>\n    </tr>\n    <tr>\n      <th>...</th>\n      <td>...</td>\n      <td>...</td>\n      <td>...</td>\n      <td>...</td>\n      <td>...</td>\n      <td>...</td>\n      <td>...</td>\n      <td>...</td>\n      <td>...</td>\n      <td>...</td>\n      <td>...</td>\n      <td>...</td>\n      <td>...</td>\n      <td>...</td>\n      <td>...</td>\n      <td>...</td>\n      <td>...</td>\n    </tr>\n    <tr>\n      <th>84973</th>\n      <td>UYU</td>\n      <td>Promissory</td>\n      <td>moteuy</td>\n      <td>moteuy</td>\n      <td>0</td>\n      <td>NaN</td>\n      <td>68</td>\n      <td>22879.85</td>\n      <td>UYU</td>\n      <td>USD/UYU</td>\n      <td>4.214000e+01</td>\n      <td>Uruguay</td>\n      <td>Latam</td>\n      <td>both</td>\n      <td>NaN</td>\n      <td>NaN</td>\n      <td>left_only</td>\n    </tr>\n    <tr>\n      <th>84974</th>\n      <td>UYU</td>\n      <td>Promissory</td>\n      <td>tatauy</td>\n      <td>tatauy</td>\n      <td>2</td>\n      <td>6010.00</td>\n      <td>33508</td>\n      <td>91930564.34</td>\n      <td>UYU</td>\n      <td>USD/UYU</td>\n      <td>4.214000e+01</td>\n      <td>Uruguay</td>\n      <td>Latam</td>\n      <td>both</td>\n      <td>NaN</td>\n      <td>NaN</td>\n      <td>left_only</td>\n    </tr>\n    <tr>\n      <th>84975</th>\n      <td>UYU</td>\n      <td>Promissory</td>\n      <td>tatauyqa</td>\n      <td>tatauyqa</td>\n      <td>0</td>\n      <td>NaN</td>\n      <td>472</td>\n      <td>968772.84</td>\n      <td>UYU</td>\n      <td>USD/UYU</td>\n      <td>4.214000e+01</td>\n      <td>Uruguay</td>\n      <td>Latam</td>\n      <td>both</td>\n      <td>NaN</td>\n      <td>NaN</td>\n      <td>left_only</td>\n    </tr>\n    <tr>\n      <th>84976</th>\n      <td>VES</td>\n      <td>Promissory</td>\n      <td>diageoven</td>\n      <td>diageoven</td>\n      <td>0</td>\n      <td>NaN</td>\n      <td>3</td>\n      <td>41050.00</td>\n      <td>VES</td>\n      <td>USD/VES</td>\n      <td>1.803004e+07</td>\n      <td>Venezuela</td>\n      <td>Latam</td>\n      <td>both</td>\n      <td>NaN</td>\n      <td>NaN</td>\n      <td>left_only</td>\n    </tr>\n    <tr>\n      <th>84977</th>\n      <td>VES</td>\n      <td>Promissory</td>\n      <td>locatelvenezuela</td>\n      <td>locatelvenezuela</td>\n      <td>0</td>\n      <td>NaN</td>\n      <td>3</td>\n      <td>3605286.00</td>\n      <td>VES</td>\n      <td>USD/VES</td>\n      <td>1.803004e+07</td>\n      <td>Venezuela</td>\n      <td>Latam</td>\n      <td>both</td>\n      <td>NaN</td>\n      <td>NaN</td>\n      <td>left_only</td>\n    </tr>\n  </tbody>\n</table>\n<p>84978 rows × 17 columns</p>\n</div>"
     },
     "metadata": {},
     "execution_count": 208
    }
   ],
   "source": [
    "df_3"
   ]
  },
  {
   "cell_type": "code",
   "execution_count": 209,
   "metadata": {},
   "outputs": [],
   "source": [
    "#Completo los NaN con 0\n",
    "df_3.rename(columns = {'currency': 'Currency',\n",
    "                        'connector': 'Connector',\n",
    "                        'accountname': 'AccountName',\n",
    "                        'account': 'Account',\n",
    "                        'False:::Count of Transactions_PCI': 'Cantidad_F',\n",
    "                        'False:::Sum of kpi_sum': 'Importe_Original_F',\n",
    "                        'True:::Count of Transactions_PCI': 'Cantidad',\n",
    "                        'True:::Sum of kpi_sum': 'Importe_Original',\n",
    "                        'Currency': 'Currency_2',\n",
    "                        'Conector': 'Connector_2',\n",
    "                        'Conector_Aj': 'Connector_Aj'        \t\n",
    "                        },\n",
    "                        inplace=True\n",
    "                        )\n",
    "\n",
    "df_3['Importe_USD_F'] = round(df_3['Importe_Original_F'] / df_3['TC'],0)\n",
    "df_3['Importe_USD']  = round(df_3['Importe_Original'] / df_3['TC'],0)\n",
    "df_3['Connector_Aj'].fillna('Otro', inplace=True)"
   ]
  },
  {
   "cell_type": "code",
   "execution_count": 210,
   "metadata": {},
   "outputs": [],
   "source": [
    "df_3.Cantidad_F.fillna(0, inplace=True)\n",
    "df_3.Cantidad.fillna(0, inplace=True)\n",
    "df_3.Importe_Original.fillna(0, inplace=True)\n",
    "df_3.Importe_Original_F.fillna(0, inplace=True)\n",
    "df_3.Importe_USD_F.fillna(0, inplace=True)\n",
    "df_3.Importe_USD.fillna(0, inplace=True)\n",
    "df_3.drop('Moneda', axis = 1, inplace=True)\n",
    "df_3.drop('Connector_2', axis = 1, inplace=True)\n",
    "df_3.drop('merge0', axis = 1, inplace=True)\n",
    "df_3.drop('_merge', axis = 1, inplace=True)"
   ]
  },
  {
   "cell_type": "code",
   "execution_count": 211,
   "metadata": {},
   "outputs": [
    {
     "output_type": "execute_result",
     "data": {
      "text/plain": [
       "         Cantidad_F  Importe_Original_F      Cantidad  Importe_Original  \\\n",
       "count  8.497800e+04        8.497800e+04  8.497800e+04      8.497800e+04   \n",
       "mean   5.438833e+02        2.216935e+08  1.071039e+03      3.468455e+07   \n",
       "std    9.648082e+03        4.730332e+10  2.180207e+04      2.008297e+09   \n",
       "min    0.000000e+00        0.000000e+00  0.000000e+00      0.000000e+00   \n",
       "25%    1.000000e+00        8.911000e+01  1.000000e+00      1.500000e+01   \n",
       "50%    5.000000e+00        8.400000e+02  5.000000e+00      8.677700e+02   \n",
       "75%    2.800000e+01        7.706650e+03  5.400000e+01      1.291484e+04   \n",
       "max    1.157579e+06        1.364002e+13  3.064841e+06      4.686447e+11   \n",
       "\n",
       "                 TC  Importe_USD_F   Importe_USD  \n",
       "count  8.497800e+04   8.497800e+04  8.497800e+04  \n",
       "mean   4.838417e+02   1.218748e+07  8.913910e+04  \n",
       "std    8.747244e+04   2.586729e+09  3.211357e+06  \n",
       "min    7.626000e-01   0.000000e+00  0.000000e+00  \n",
       "25%    5.450300e+00   1.600000e+01  3.000000e+00  \n",
       "50%    5.450300e+00   1.520000e+02  1.530000e+02  \n",
       "75%    5.450300e+00   1.359000e+03  2.184750e+03  \n",
       "max    1.803004e+07   6.765881e+11  6.149974e+08  "
      ],
      "text/html": "<div>\n<style scoped>\n    .dataframe tbody tr th:only-of-type {\n        vertical-align: middle;\n    }\n\n    .dataframe tbody tr th {\n        vertical-align: top;\n    }\n\n    .dataframe thead th {\n        text-align: right;\n    }\n</style>\n<table border=\"1\" class=\"dataframe\">\n  <thead>\n    <tr style=\"text-align: right;\">\n      <th></th>\n      <th>Cantidad_F</th>\n      <th>Importe_Original_F</th>\n      <th>Cantidad</th>\n      <th>Importe_Original</th>\n      <th>TC</th>\n      <th>Importe_USD_F</th>\n      <th>Importe_USD</th>\n    </tr>\n  </thead>\n  <tbody>\n    <tr>\n      <th>count</th>\n      <td>8.497800e+04</td>\n      <td>8.497800e+04</td>\n      <td>8.497800e+04</td>\n      <td>8.497800e+04</td>\n      <td>8.497800e+04</td>\n      <td>8.497800e+04</td>\n      <td>8.497800e+04</td>\n    </tr>\n    <tr>\n      <th>mean</th>\n      <td>5.438833e+02</td>\n      <td>2.216935e+08</td>\n      <td>1.071039e+03</td>\n      <td>3.468455e+07</td>\n      <td>4.838417e+02</td>\n      <td>1.218748e+07</td>\n      <td>8.913910e+04</td>\n    </tr>\n    <tr>\n      <th>std</th>\n      <td>9.648082e+03</td>\n      <td>4.730332e+10</td>\n      <td>2.180207e+04</td>\n      <td>2.008297e+09</td>\n      <td>8.747244e+04</td>\n      <td>2.586729e+09</td>\n      <td>3.211357e+06</td>\n    </tr>\n    <tr>\n      <th>min</th>\n      <td>0.000000e+00</td>\n      <td>0.000000e+00</td>\n      <td>0.000000e+00</td>\n      <td>0.000000e+00</td>\n      <td>7.626000e-01</td>\n      <td>0.000000e+00</td>\n      <td>0.000000e+00</td>\n    </tr>\n    <tr>\n      <th>25%</th>\n      <td>1.000000e+00</td>\n      <td>8.911000e+01</td>\n      <td>1.000000e+00</td>\n      <td>1.500000e+01</td>\n      <td>5.450300e+00</td>\n      <td>1.600000e+01</td>\n      <td>3.000000e+00</td>\n    </tr>\n    <tr>\n      <th>50%</th>\n      <td>5.000000e+00</td>\n      <td>8.400000e+02</td>\n      <td>5.000000e+00</td>\n      <td>8.677700e+02</td>\n      <td>5.450300e+00</td>\n      <td>1.520000e+02</td>\n      <td>1.530000e+02</td>\n    </tr>\n    <tr>\n      <th>75%</th>\n      <td>2.800000e+01</td>\n      <td>7.706650e+03</td>\n      <td>5.400000e+01</td>\n      <td>1.291484e+04</td>\n      <td>5.450300e+00</td>\n      <td>1.359000e+03</td>\n      <td>2.184750e+03</td>\n    </tr>\n    <tr>\n      <th>max</th>\n      <td>1.157579e+06</td>\n      <td>1.364002e+13</td>\n      <td>3.064841e+06</td>\n      <td>4.686447e+11</td>\n      <td>1.803004e+07</td>\n      <td>6.765881e+11</td>\n      <td>6.149974e+08</td>\n    </tr>\n  </tbody>\n</table>\n</div>"
     },
     "metadata": {},
     "execution_count": 211
    }
   ],
   "source": [
    "df_3.describe()"
   ]
  },
  {
   "source": [
    "## Analizo Outliers"
   ],
   "cell_type": "markdown",
   "metadata": {}
  },
  {
   "cell_type": "code",
   "execution_count": 215,
   "metadata": {},
   "outputs": [
    {
     "output_type": "execute_result",
     "data": {
      "text/plain": [
       "      Currency      Connector      AccountName          Account  Cantidad_F  \\\n",
       "7816       BRL   ItauShopline   b2beletrotrafo   b2beletrotrafo           0   \n",
       "78406      BRL     Promissory  bradescoseguros  bradescoseguros           0   \n",
       "78558      BRL     Promissory      eletrotrafo      eletrotrafo           0   \n",
       "84768      USD     Promissory      chefcompany      chefcompany           0   \n",
       "84791      USD     Promissory            exito            exito           0   \n",
       "84800      USD     Promissory        gympassus        gympassus           0   \n",
       "84904      USD  TestConnector        bornthree        bornthree           0   \n",
       "\n",
       "       Importe_Original_F  Cantidad  Importe_Original Currency_2      TC  \\\n",
       "7816                  0.0        11      1.456305e+08    USD/BRL  5.4503   \n",
       "78406                 0.0        18      1.476171e+07    USD/BRL  5.4503   \n",
       "78558                 0.0       143      8.194296e+07    USD/BRL  5.4503   \n",
       "84768                 0.0        23      7.892636e+06    USD/USD  1.0000   \n",
       "84791                 0.0         5      1.005161e+06    USD/USD  1.0000   \n",
       "84800                 0.0         1      1.207053e+05    USD/USD  1.0000   \n",
       "84904                 0.0         4      5.866200e+05    USD/USD  1.0000   \n",
       "\n",
       "         Pais  Region Connector_Aj  Importe_USD_F  Importe_USD  \n",
       "7816   Brasil  Brasil         Otro            0.0   26719725.0  \n",
       "78406  Brasil  Brasil         Otro            0.0    2708421.0  \n",
       "78558  Brasil  Brasil         Otro            0.0   15034577.0  \n",
       "84768     USA     USA         Otro            0.0    7892636.0  \n",
       "84791     USA     USA         Otro            0.0    1005161.0  \n",
       "84800     USA     USA         Otro            0.0     120705.0  \n",
       "84904     USA     USA         Otro            0.0     586620.0  "
      ],
      "text/html": "<div>\n<style scoped>\n    .dataframe tbody tr th:only-of-type {\n        vertical-align: middle;\n    }\n\n    .dataframe tbody tr th {\n        vertical-align: top;\n    }\n\n    .dataframe thead th {\n        text-align: right;\n    }\n</style>\n<table border=\"1\" class=\"dataframe\">\n  <thead>\n    <tr style=\"text-align: right;\">\n      <th></th>\n      <th>Currency</th>\n      <th>Connector</th>\n      <th>AccountName</th>\n      <th>Account</th>\n      <th>Cantidad_F</th>\n      <th>Importe_Original_F</th>\n      <th>Cantidad</th>\n      <th>Importe_Original</th>\n      <th>Currency_2</th>\n      <th>TC</th>\n      <th>Pais</th>\n      <th>Region</th>\n      <th>Connector_Aj</th>\n      <th>Importe_USD_F</th>\n      <th>Importe_USD</th>\n    </tr>\n  </thead>\n  <tbody>\n    <tr>\n      <th>7816</th>\n      <td>BRL</td>\n      <td>ItauShopline</td>\n      <td>b2beletrotrafo</td>\n      <td>b2beletrotrafo</td>\n      <td>0</td>\n      <td>0.0</td>\n      <td>11</td>\n      <td>1.456305e+08</td>\n      <td>USD/BRL</td>\n      <td>5.4503</td>\n      <td>Brasil</td>\n      <td>Brasil</td>\n      <td>Otro</td>\n      <td>0.0</td>\n      <td>26719725.0</td>\n    </tr>\n    <tr>\n      <th>78406</th>\n      <td>BRL</td>\n      <td>Promissory</td>\n      <td>bradescoseguros</td>\n      <td>bradescoseguros</td>\n      <td>0</td>\n      <td>0.0</td>\n      <td>18</td>\n      <td>1.476171e+07</td>\n      <td>USD/BRL</td>\n      <td>5.4503</td>\n      <td>Brasil</td>\n      <td>Brasil</td>\n      <td>Otro</td>\n      <td>0.0</td>\n      <td>2708421.0</td>\n    </tr>\n    <tr>\n      <th>78558</th>\n      <td>BRL</td>\n      <td>Promissory</td>\n      <td>eletrotrafo</td>\n      <td>eletrotrafo</td>\n      <td>0</td>\n      <td>0.0</td>\n      <td>143</td>\n      <td>8.194296e+07</td>\n      <td>USD/BRL</td>\n      <td>5.4503</td>\n      <td>Brasil</td>\n      <td>Brasil</td>\n      <td>Otro</td>\n      <td>0.0</td>\n      <td>15034577.0</td>\n    </tr>\n    <tr>\n      <th>84768</th>\n      <td>USD</td>\n      <td>Promissory</td>\n      <td>chefcompany</td>\n      <td>chefcompany</td>\n      <td>0</td>\n      <td>0.0</td>\n      <td>23</td>\n      <td>7.892636e+06</td>\n      <td>USD/USD</td>\n      <td>1.0000</td>\n      <td>USA</td>\n      <td>USA</td>\n      <td>Otro</td>\n      <td>0.0</td>\n      <td>7892636.0</td>\n    </tr>\n    <tr>\n      <th>84791</th>\n      <td>USD</td>\n      <td>Promissory</td>\n      <td>exito</td>\n      <td>exito</td>\n      <td>0</td>\n      <td>0.0</td>\n      <td>5</td>\n      <td>1.005161e+06</td>\n      <td>USD/USD</td>\n      <td>1.0000</td>\n      <td>USA</td>\n      <td>USA</td>\n      <td>Otro</td>\n      <td>0.0</td>\n      <td>1005161.0</td>\n    </tr>\n    <tr>\n      <th>84800</th>\n      <td>USD</td>\n      <td>Promissory</td>\n      <td>gympassus</td>\n      <td>gympassus</td>\n      <td>0</td>\n      <td>0.0</td>\n      <td>1</td>\n      <td>1.207053e+05</td>\n      <td>USD/USD</td>\n      <td>1.0000</td>\n      <td>USA</td>\n      <td>USA</td>\n      <td>Otro</td>\n      <td>0.0</td>\n      <td>120705.0</td>\n    </tr>\n    <tr>\n      <th>84904</th>\n      <td>USD</td>\n      <td>TestConnector</td>\n      <td>bornthree</td>\n      <td>bornthree</td>\n      <td>0</td>\n      <td>0.0</td>\n      <td>4</td>\n      <td>5.866200e+05</td>\n      <td>USD/USD</td>\n      <td>1.0000</td>\n      <td>USA</td>\n      <td>USA</td>\n      <td>Otro</td>\n      <td>0.0</td>\n      <td>586620.0</td>\n    </tr>\n  </tbody>\n</table>\n</div>"
     },
     "metadata": {},
     "execution_count": 215
    }
   ],
   "source": [
    "# Analizo Outliers\n",
    "df_3[df_3.Importe_USD/df_3.Cantidad > 100000]\n",
    "#df_3[df_3.Importe_USD_F/df_3.Cantidad_F > 1000000]"
   ]
  },
  {
   "source": [
    "## Exporto"
   ],
   "cell_type": "markdown",
   "metadata": {}
  },
  {
   "cell_type": "code",
   "execution_count": 213,
   "metadata": {},
   "outputs": [],
   "source": [
    "folder = 'E:/Vtex_Projects/Monitoreo_Gateways/VTEX_Splunk_2_Datastudio - Data/1_procesado/'\n",
    "file = 'data_2020.csv'\n",
    "folder+file\n",
    "df_3.to_csv(folder+file, index=False)"
   ]
  },
  {
   "cell_type": "code",
   "execution_count": 214,
   "metadata": {},
   "outputs": [
    {
     "output_type": "execute_result",
     "data": {
      "text/plain": [
       "         Cantidad_F  Importe_Original_F      Cantidad  Importe_Original  \\\n",
       "count  8.497800e+04        8.497800e+04  8.497800e+04      8.497800e+04   \n",
       "mean   5.438833e+02        2.216935e+08  1.071039e+03      3.468455e+07   \n",
       "std    9.648082e+03        4.730332e+10  2.180207e+04      2.008297e+09   \n",
       "min    0.000000e+00        0.000000e+00  0.000000e+00      0.000000e+00   \n",
       "25%    1.000000e+00        8.911000e+01  1.000000e+00      1.500000e+01   \n",
       "50%    5.000000e+00        8.400000e+02  5.000000e+00      8.677700e+02   \n",
       "75%    2.800000e+01        7.706650e+03  5.400000e+01      1.291484e+04   \n",
       "max    1.157579e+06        1.364002e+13  3.064841e+06      4.686447e+11   \n",
       "\n",
       "                 TC  Importe_USD_F   Importe_USD  \n",
       "count  8.497800e+04   8.497800e+04  8.497800e+04  \n",
       "mean   4.838417e+02   1.218748e+07  8.913910e+04  \n",
       "std    8.747244e+04   2.586729e+09  3.211357e+06  \n",
       "min    7.626000e-01   0.000000e+00  0.000000e+00  \n",
       "25%    5.450300e+00   1.600000e+01  3.000000e+00  \n",
       "50%    5.450300e+00   1.520000e+02  1.530000e+02  \n",
       "75%    5.450300e+00   1.359000e+03  2.184750e+03  \n",
       "max    1.803004e+07   6.765881e+11  6.149974e+08  "
      ],
      "text/html": "<div>\n<style scoped>\n    .dataframe tbody tr th:only-of-type {\n        vertical-align: middle;\n    }\n\n    .dataframe tbody tr th {\n        vertical-align: top;\n    }\n\n    .dataframe thead th {\n        text-align: right;\n    }\n</style>\n<table border=\"1\" class=\"dataframe\">\n  <thead>\n    <tr style=\"text-align: right;\">\n      <th></th>\n      <th>Cantidad_F</th>\n      <th>Importe_Original_F</th>\n      <th>Cantidad</th>\n      <th>Importe_Original</th>\n      <th>TC</th>\n      <th>Importe_USD_F</th>\n      <th>Importe_USD</th>\n    </tr>\n  </thead>\n  <tbody>\n    <tr>\n      <th>count</th>\n      <td>8.497800e+04</td>\n      <td>8.497800e+04</td>\n      <td>8.497800e+04</td>\n      <td>8.497800e+04</td>\n      <td>8.497800e+04</td>\n      <td>8.497800e+04</td>\n      <td>8.497800e+04</td>\n    </tr>\n    <tr>\n      <th>mean</th>\n      <td>5.438833e+02</td>\n      <td>2.216935e+08</td>\n      <td>1.071039e+03</td>\n      <td>3.468455e+07</td>\n      <td>4.838417e+02</td>\n      <td>1.218748e+07</td>\n      <td>8.913910e+04</td>\n    </tr>\n    <tr>\n      <th>std</th>\n      <td>9.648082e+03</td>\n      <td>4.730332e+10</td>\n      <td>2.180207e+04</td>\n      <td>2.008297e+09</td>\n      <td>8.747244e+04</td>\n      <td>2.586729e+09</td>\n      <td>3.211357e+06</td>\n    </tr>\n    <tr>\n      <th>min</th>\n      <td>0.000000e+00</td>\n      <td>0.000000e+00</td>\n      <td>0.000000e+00</td>\n      <td>0.000000e+00</td>\n      <td>7.626000e-01</td>\n      <td>0.000000e+00</td>\n      <td>0.000000e+00</td>\n    </tr>\n    <tr>\n      <th>25%</th>\n      <td>1.000000e+00</td>\n      <td>8.911000e+01</td>\n      <td>1.000000e+00</td>\n      <td>1.500000e+01</td>\n      <td>5.450300e+00</td>\n      <td>1.600000e+01</td>\n      <td>3.000000e+00</td>\n    </tr>\n    <tr>\n      <th>50%</th>\n      <td>5.000000e+00</td>\n      <td>8.400000e+02</td>\n      <td>5.000000e+00</td>\n      <td>8.677700e+02</td>\n      <td>5.450300e+00</td>\n      <td>1.520000e+02</td>\n      <td>1.530000e+02</td>\n    </tr>\n    <tr>\n      <th>75%</th>\n      <td>2.800000e+01</td>\n      <td>7.706650e+03</td>\n      <td>5.400000e+01</td>\n      <td>1.291484e+04</td>\n      <td>5.450300e+00</td>\n      <td>1.359000e+03</td>\n      <td>2.184750e+03</td>\n    </tr>\n    <tr>\n      <th>max</th>\n      <td>1.157579e+06</td>\n      <td>1.364002e+13</td>\n      <td>3.064841e+06</td>\n      <td>4.686447e+11</td>\n      <td>1.803004e+07</td>\n      <td>6.765881e+11</td>\n      <td>6.149974e+08</td>\n    </tr>\n  </tbody>\n</table>\n</div>"
     },
     "metadata": {},
     "execution_count": 214
    }
   ],
   "source": [
    "df_3.describe()"
   ]
  },
  {
   "cell_type": "code",
   "execution_count": null,
   "metadata": {},
   "outputs": [],
   "source": []
  }
 ]
}